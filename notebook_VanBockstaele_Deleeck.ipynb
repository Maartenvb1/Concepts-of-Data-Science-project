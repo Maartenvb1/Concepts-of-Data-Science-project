{
 "cells": [
  {
   "cell_type": "markdown",
   "id": "ba0f2afb-5d42-438b-86fc-03a36651e3df",
   "metadata": {},
   "source": [
    "Student 1: Maarten van Bockstaele (2262607)\n",
    "\n",
    "Student 2: Alexander Deleeck (2263131)\n",
    "\n",
    "A ternary search tree has nodes with the following attributes:\n",
    "* a character, can be `None`;\n",
    "* a Boolean flag that indicates whether the character represented\n",
    "  by this node has been the last in a string that was inserted in the\n",
    "  tree;\n",
    "* the \"less-than\" child;\n",
    "* the \"equals\" child and\n",
    "* the \"larger-than\" child.\n",
    "\n",
    "The data structure should support the following operations:\n",
    "* string insert\n",
    "* string search\n",
    "* prefix string search\n",
    "* return the number of strings stored in the data structure\n",
    "* return all strings stored in the data structure\n",
    "\n",
    "Also ensure that an instance of the data structure can be visualy represented, e.g., in aSCII format."
   ]
  },
  {
   "cell_type": "markdown",
   "id": "e24e0d90-56fa-4aed-a031-bb252cf55300",
   "metadata": {},
   "source": [
    "# Implementation"
   ]
  },
  {
   "cell_type": "code",
   "execution_count": 1,
   "id": "2e38f69e-5b57-4ae7-85ce-c1f65d6d3673",
   "metadata": {},
   "outputs": [],
   "source": [
    "%load_ext autoreload\n",
    "%autoreload 2"
   ]
  },
  {
   "cell_type": "markdown",
   "id": "c4e0a12a-37c0-4ed0-8bd3-225764f59f4c",
   "metadata": {},
   "source": [
    "The data structure has been implemented as a class."
   ]
  },
  {
   "cell_type": "code",
   "execution_count": 2,
   "id": "63f8d683-29d5-4e4d-bff8-d9264f5a18aa",
   "metadata": {
    "tags": []
   },
   "outputs": [],
   "source": [
    "class TSTNode:\n",
    "    def __init__(self, char):\n",
    "        self.char = char\n",
    "        self.left = None\n",
    "        self.middle = None\n",
    "        self.right = None\n",
    "        self.is_end_of_word = False\n",
    "\n",
    "    def insert(self, word, index): # Method (called on TST node) for inserting string with given index on node in tree\n",
    "        if word[index] < self.char: # Check if value of letter in string is less than value of node\n",
    "            if self.left is None: # Check if node has no left child\n",
    "                self.left = TSTNode(word[index]) # Create new left child node for the current character of string\n",
    "            self.left.insert(word, index) # Insert character of string on left node\n",
    "        elif word[index] > self.char: # Check if character value is greater than value of node character\n",
    "            if self.right is None: # Check if right child does not exist\n",
    "                self.right = TSTNode(word[index]) # Create right child  for node \n",
    "            self.right.insert(word, index) # Insert string on right child \n",
    "        elif index < len(word) - 1: # Check if current string character is not last character of string \n",
    "            if self.middle is None: # Check whether current node has no middle child\n",
    "                self.middle = TSTNode(word[index + 1]) # Create new middle child for node, which is the next character in the string\n",
    "            self.middle.insert(word, index + 1) # Insert word in middle child node and continue to next character in string\n",
    "        else: # End of word has been reached\n",
    "            self.is_end_of_word = True # Set end-of-word flag to true\n",
    "\n",
    "    def search(self, word, index, exact=False):\n",
    "        if word[index] < self.char: # Check whether value of string character is less than value of current node character (go to left child)\n",
    "            if self.left is None: # Check whether node has no left child\n",
    "                return False # Searched string is not in TST\n",
    "            # Continue search on left child node\n",
    "            return self.left.search(word, index, exact)\n",
    "        elif word[index] > self.char: # Check whether value of string character is greater than value of current node character (go to right child)\n",
    "            if self.right is None: # Check whether node has no right child\n",
    "                return False # Searched string is not in TST\n",
    "            return self.right.search(word, index, exact) # Continue search on right child node\n",
    "        elif index < len(word) - 1: # Check if current string char is not last in string\n",
    "            if self.middle is None: # Check whether node has no middle child\n",
    "                return False # Searched string is not in TST\n",
    "            return self.middle.search(word, index + 1, exact) # Continue search on middle child node, and evaluate next character in string\n",
    "        elif exact: # End of searched string has been reached, check whether searched string must exactly be in TST\n",
    "            return self.is_end_of_word # Returns true if the current node is flagged as end of word (string is exactly in TST), False if only prefix of string is in TST\n",
    "        return True # If only prefix search is required, return True when leaf node has been reached\n",
    "\n",
    "    def get_all_words(self, prefix, words): # This method recursively explores each branch of the tree, by iteratively concatonating a newly found letter to a current prefix, and appends the complete word to the words list once it has reached a terminating node\n",
    "        if self.is_end_of_word: # Recursive base (stopping) condition, when current node is leaf node\n",
    "            words.append(prefix + self.char) # Concatonate prefix + leaf node character and append to words list\n",
    "        if self.left is not None: # Check existence of left child node\n",
    "            self.left.get_all_words(prefix, words) # Apply method on left child node\n",
    "        if self.middle is not None: # Check existence of middle child node\n",
    "            self.middle.get_all_words(prefix + self.char, words) # Concatonate prefix + current node character, and apply method on middle child node with updated prefix\n",
    "        if self.right is not None: # Check existence of right child node\n",
    "            self.right.get_all_words(prefix, words) # Apply method on right child node\n",
    "\n",
    "    def _to_string(self, indent='       '):\n",
    "        repr_str = indent + repr(self)\n",
    "\n",
    "        if self.left is not None:\n",
    "            repr_str += '\\n_lt_:' + self.left._to_string(indent + '  ')\n",
    "        if self.middle is not None:\n",
    "            repr_str += '\\n_eq_:' + self.middle._to_string(indent + '  ')\n",
    "        if self.right is not None:\n",
    "            repr_str += '\\n_gt_:' + self.right._to_string(indent + '  ')\n",
    "        return repr_str\n",
    "\n",
    "    def __repr__(self):\n",
    "        return f'char: {self.char}, terminates: {self.is_end_of_word}'\n",
    "\n",
    "\n",
    "class TernarySearchTree:\n",
    "    def __init__(self): # Instantiate TST object\n",
    "        self._root = None\n",
    "        self._terminates = False\n",
    "\n",
    "    def insert(self, word): # Operation for inserting a new string in the TST\n",
    "        if word == \"\": # Check if the string is empty\n",
    "            self._terminates = True\n",
    "        else: \n",
    "            if self._root is None: # Check whether the TST has no root node\n",
    "                self._root = TSTNode(word[0]) # Assign the first letter of the string as root node in case there was none\n",
    "            self._root.insert(word, 0) # Insert the new string via the root node\n",
    "\n",
    "    def search(self, word, exact=False):\n",
    "        if word == '': # Check if searched string is empty\n",
    "            return not exact \n",
    "        elif self._root is None: # Check whether TST contains no root node\n",
    "            return False \n",
    "        return self._root.search(word, 0, exact) # Apply search on root node\n",
    "\n",
    "    def all_strings(self):\n",
    "        if self._terminates: # Check whether TST is empty\n",
    "            words = [\"\"] # Make list with empty string\n",
    "        else:\n",
    "            words = [] # Instantiate empty list\n",
    "        if self._root is not None: # Check existence of root node\n",
    "            self._root.get_all_words(\"\", words) # Apply recursive string retrieval on root node, and provide an empty prefix & list\n",
    "        return words # Return the resulting list of words\n",
    "\n",
    "    def __len__(self):\n",
    "        if self._root is None: # Check whether TST is empty\n",
    "            return 0\n",
    "        else:\n",
    "            return len(self.all_strings()) # Return length of list of all stored strings\n",
    "\n",
    "    def __repr__(self):\n",
    "        if self._root is None:\n",
    "            return 'empty tree'\n",
    "        else:\n",
    "            return f'terminates: {self._terminates} \\n' + self._root._to_string()"
   ]
  },
  {
   "cell_type": "markdown",
   "id": "29c9a229-e99c-4db0-afff-8623495b0d0f",
   "metadata": {
    "tags": []
   },
   "source": [
    "# Example usage"
   ]
  },
  {
   "cell_type": "markdown",
   "id": "0df14272-c232-49cf-bacb-bdfe92d1801e",
   "metadata": {},
   "source": [
    "Create a new empty ternery search tree."
   ]
  },
  {
   "cell_type": "code",
   "execution_count": 3,
   "id": "1497b163-80f4-4615-9b96-de0d0d94bab4",
   "metadata": {
    "tags": []
   },
   "outputs": [],
   "source": [
    "tst = TernarySearchTree()"
   ]
  },
  {
   "cell_type": "markdown",
   "id": "0f4fab8f-f1f8-4e90-b533-ceec45b60dcb",
   "metadata": {},
   "source": [
    "Insert the string `'abc'` into the tree."
   ]
  },
  {
   "cell_type": "code",
   "execution_count": 4,
   "id": "3b159de7-9668-4814-9d52-92ddd95736c8",
   "metadata": {
    "tags": []
   },
   "outputs": [],
   "source": [
    "tst.insert('hassle')\n",
    "tst.insert('has')\n",
    "tst.insert('slender')\n",
    "tst.insert('endearing')\n",
    "tst.insert('enduring')\n",
    "tst.insert('rings')"
   ]
  },
  {
   "cell_type": "markdown",
   "id": "5f3cbbf6-256e-4e36-815f-49fa9bbba3c8",
   "metadata": {},
   "source": [
    "Display the tree."
   ]
  },
  {
   "cell_type": "code",
   "execution_count": 5,
   "id": "596f3312-7d0f-42d2-9ea2-a50d81f7d8be",
   "metadata": {
    "tags": []
   },
   "outputs": [
    {
     "name": "stdout",
     "output_type": "stream",
     "text": [
      "terminates: False \n",
      "       char: h, terminates: False\n",
      "_lt_:         char: e, terminates: False\n",
      "_eq_:           char: n, terminates: False\n",
      "_eq_:             char: d, terminates: False\n",
      "_eq_:               char: e, terminates: False\n",
      "_eq_:                 char: a, terminates: False\n",
      "_eq_:                   char: r, terminates: False\n",
      "_eq_:                     char: i, terminates: False\n",
      "_eq_:                       char: n, terminates: False\n",
      "_eq_:                         char: g, terminates: True\n",
      "_gt_:                 char: u, terminates: False\n",
      "_eq_:                   char: r, terminates: False\n",
      "_eq_:                     char: i, terminates: False\n",
      "_eq_:                       char: n, terminates: False\n",
      "_eq_:                         char: g, terminates: True\n",
      "_eq_:         char: a, terminates: False\n",
      "_eq_:           char: s, terminates: True\n",
      "_eq_:             char: s, terminates: False\n",
      "_eq_:               char: l, terminates: False\n",
      "_eq_:                 char: e, terminates: True\n",
      "_gt_:         char: s, terminates: False\n",
      "_lt_:           char: r, terminates: False\n",
      "_eq_:             char: i, terminates: False\n",
      "_eq_:               char: n, terminates: False\n",
      "_eq_:                 char: g, terminates: False\n",
      "_eq_:                   char: s, terminates: True\n",
      "_eq_:           char: l, terminates: False\n",
      "_eq_:             char: e, terminates: False\n",
      "_eq_:               char: n, terminates: False\n",
      "_eq_:                 char: d, terminates: False\n",
      "_eq_:                   char: e, terminates: False\n",
      "_eq_:                     char: r, terminates: True\n"
     ]
    }
   ],
   "source": [
    "print(tst)"
   ]
  },
  {
   "cell_type": "markdown",
   "id": "e76a848b-88a8-4b2e-8ee7-e93bb64ecff0",
   "metadata": {},
   "source": [
    "Insert another string `'aqt'`."
   ]
  },
  {
   "cell_type": "code",
   "execution_count": 6,
   "id": "d59f3ef9-0523-4c20-a2fa-073165a35d5e",
   "metadata": {
    "tags": []
   },
   "outputs": [],
   "source": [
    "tst.insert('aqt')"
   ]
  },
  {
   "cell_type": "code",
   "execution_count": 7,
   "id": "a6a40c5d-e3e4-4104-ab0a-308a4ccdb5e1",
   "metadata": {
    "tags": []
   },
   "outputs": [
    {
     "name": "stdout",
     "output_type": "stream",
     "text": [
      "terminates: False \n",
      "       char: h, terminates: False\n",
      "_lt_:         char: e, terminates: False\n",
      "_lt_:           char: a, terminates: False\n",
      "_eq_:             char: q, terminates: False\n",
      "_eq_:               char: t, terminates: True\n",
      "_eq_:           char: n, terminates: False\n",
      "_eq_:             char: d, terminates: False\n",
      "_eq_:               char: e, terminates: False\n",
      "_eq_:                 char: a, terminates: False\n",
      "_eq_:                   char: r, terminates: False\n",
      "_eq_:                     char: i, terminates: False\n",
      "_eq_:                       char: n, terminates: False\n",
      "_eq_:                         char: g, terminates: True\n",
      "_gt_:                 char: u, terminates: False\n",
      "_eq_:                   char: r, terminates: False\n",
      "_eq_:                     char: i, terminates: False\n",
      "_eq_:                       char: n, terminates: False\n",
      "_eq_:                         char: g, terminates: True\n",
      "_eq_:         char: a, terminates: False\n",
      "_eq_:           char: s, terminates: True\n",
      "_eq_:             char: s, terminates: False\n",
      "_eq_:               char: l, terminates: False\n",
      "_eq_:                 char: e, terminates: True\n",
      "_gt_:         char: s, terminates: False\n",
      "_lt_:           char: r, terminates: False\n",
      "_eq_:             char: i, terminates: False\n",
      "_eq_:               char: n, terminates: False\n",
      "_eq_:                 char: g, terminates: False\n",
      "_eq_:                   char: s, terminates: True\n",
      "_eq_:           char: l, terminates: False\n",
      "_eq_:             char: e, terminates: False\n",
      "_eq_:               char: n, terminates: False\n",
      "_eq_:                 char: d, terminates: False\n",
      "_eq_:                   char: e, terminates: False\n",
      "_eq_:                     char: r, terminates: True\n"
     ]
    }
   ],
   "source": [
    "print(tst)"
   ]
  },
  {
   "cell_type": "markdown",
   "id": "d3b133d1-b878-4e57-a2c9-17c44ba186cb",
   "metadata": {},
   "source": [
    "The tree should now contain two strings."
   ]
  },
  {
   "cell_type": "code",
   "execution_count": 8,
   "id": "45c03393-62ad-43e1-8667-5847d338d740",
   "metadata": {
    "tags": []
   },
   "outputs": [
    {
     "data": {
      "text/plain": [
       "7"
      ]
     },
     "execution_count": 8,
     "metadata": {},
     "output_type": "execute_result"
    }
   ],
   "source": [
    "len(tst)"
   ]
  },
  {
   "cell_type": "code",
   "execution_count": 9,
   "id": "1713d80e-e2e1-42b7-b1e0-cdc70aec6ceb",
   "metadata": {},
   "outputs": [
    {
     "data": {
      "text/plain": [
       "['aqt', 'endearing', 'enduring', 'has', 'hassle', 'rings', 'slender']"
      ]
     },
     "execution_count": 9,
     "metadata": {},
     "output_type": "execute_result"
    }
   ],
   "source": [
    "tst.all_strings()"
   ]
  },
  {
   "cell_type": "markdown",
   "id": "7350133c-1484-485f-a8dc-1cac2c462ec7",
   "metadata": {},
   "source": [
    "Search for the string `'ab'`, it should be found since it is a prefix of `'abc'`."
   ]
  },
  {
   "cell_type": "code",
   "execution_count": 10,
   "id": "ddd71cf3-f887-4939-bae7-4a1c0a85a9e2",
   "metadata": {
    "tags": []
   },
   "outputs": [
    {
     "data": {
      "text/plain": [
       "False"
      ]
     },
     "execution_count": 10,
     "metadata": {},
     "output_type": "execute_result"
    }
   ],
   "source": [
    "tst.search('end', True)"
   ]
  },
  {
   "cell_type": "markdown",
   "id": "45443693-ae5a-4584-bab2-7c20e8331dcc",
   "metadata": {},
   "source": [
    "The string `'ac'` should not be found."
   ]
  },
  {
   "cell_type": "code",
   "execution_count": 11,
   "id": "3756d5c9-0286-463a-8962-a0878ec067e2",
   "metadata": {
    "tags": []
   },
   "outputs": [
    {
     "data": {
      "text/plain": [
       "False"
      ]
     },
     "execution_count": 11,
     "metadata": {},
     "output_type": "execute_result"
    }
   ],
   "source": [
    "tst.search('enc')"
   ]
  },
  {
   "cell_type": "markdown",
   "id": "c244f370-77fa-4291-bc8d-b8a4e4c3a680",
   "metadata": {},
   "source": [
    "The tree can also contain the empty string."
   ]
  },
  {
   "cell_type": "code",
   "execution_count": 12,
   "id": "66a3fdd6-bb30-42ec-9f2e-73c880b40209",
   "metadata": {
    "tags": []
   },
   "outputs": [],
   "source": [
    "tst.insert('')"
   ]
  },
  {
   "cell_type": "code",
   "execution_count": 13,
   "id": "b94f344b-2c62-4b75-95e0-d79f609072fd",
   "metadata": {
    "tags": []
   },
   "outputs": [
    {
     "data": {
      "text/plain": [
       "8"
      ]
     },
     "execution_count": 13,
     "metadata": {},
     "output_type": "execute_result"
    }
   ],
   "source": [
    "len(tst)"
   ]
  },
  {
   "cell_type": "code",
   "execution_count": 14,
   "id": "be2221c7-57af-449c-b235-4b9257b98229",
   "metadata": {
    "tags": []
   },
   "outputs": [
    {
     "name": "stdout",
     "output_type": "stream",
     "text": [
      "terminates: True \n",
      "       char: h, terminates: False\n",
      "_lt_:         char: e, terminates: False\n",
      "_lt_:           char: a, terminates: False\n",
      "_eq_:             char: q, terminates: False\n",
      "_eq_:               char: t, terminates: True\n",
      "_eq_:           char: n, terminates: False\n",
      "_eq_:             char: d, terminates: False\n",
      "_eq_:               char: e, terminates: False\n",
      "_eq_:                 char: a, terminates: False\n",
      "_eq_:                   char: r, terminates: False\n",
      "_eq_:                     char: i, terminates: False\n",
      "_eq_:                       char: n, terminates: False\n",
      "_eq_:                         char: g, terminates: True\n",
      "_gt_:                 char: u, terminates: False\n",
      "_eq_:                   char: r, terminates: False\n",
      "_eq_:                     char: i, terminates: False\n",
      "_eq_:                       char: n, terminates: False\n",
      "_eq_:                         char: g, terminates: True\n",
      "_eq_:         char: a, terminates: False\n",
      "_eq_:           char: s, terminates: True\n",
      "_eq_:             char: s, terminates: False\n",
      "_eq_:               char: l, terminates: False\n",
      "_eq_:                 char: e, terminates: True\n",
      "_gt_:         char: s, terminates: False\n",
      "_lt_:           char: r, terminates: False\n",
      "_eq_:             char: i, terminates: False\n",
      "_eq_:               char: n, terminates: False\n",
      "_eq_:                 char: g, terminates: False\n",
      "_eq_:                   char: s, terminates: True\n",
      "_eq_:           char: l, terminates: False\n",
      "_eq_:             char: e, terminates: False\n",
      "_eq_:               char: n, terminates: False\n",
      "_eq_:                 char: d, terminates: False\n",
      "_eq_:                   char: e, terminates: False\n",
      "_eq_:                     char: r, terminates: True\n"
     ]
    }
   ],
   "source": [
    "print(tst)"
   ]
  },
  {
   "cell_type": "code",
   "execution_count": 15,
   "id": "024e8ed2-b336-4234-8131-cd695864cf9f",
   "metadata": {},
   "outputs": [
    {
     "data": {
      "text/plain": [
       "['', 'aqt', 'endearing', 'enduring', 'has', 'hassle', 'rings', 'slender']"
      ]
     },
     "execution_count": 15,
     "metadata": {},
     "output_type": "execute_result"
    }
   ],
   "source": [
    "tst.all_strings()"
   ]
  },
  {
   "cell_type": "markdown",
   "id": "1fee5f92-87e7-4ddb-b6e0-9001d4084faf",
   "metadata": {},
   "source": [
    "# Testing"
   ]
  },
  {
   "cell_type": "markdown",
   "id": "0f641fa7-aaf7-406e-813b-4a84645ca2fb",
   "metadata": {},
   "source": [
    "The file `data/search_trees/insert_words.txt` contains words that we can insert into a tree."
   ]
  },
  {
   "cell_type": "code",
   "execution_count": 16,
   "id": "19431f68-eafd-4e62-a410-06a7c7ec4168",
   "metadata": {
    "tags": []
   },
   "outputs": [],
   "source": [
    "tst = TernarySearchTree()\n",
    "with open('data/search_trees/insert_words.txt') as file:\n",
    "    words = [\n",
    "        line.strip() for line in file\n",
    "    ]\n",
    "for word in words:\n",
    "    tst.insert(word)\n",
    "unique_words = set(words)"
   ]
  },
  {
   "cell_type": "markdown",
   "id": "09ff039a-3780-4ef8-bed7-e6da0715800a",
   "metadata": {},
   "source": [
    "Verify the length of the data stucture."
   ]
  },
  {
   "cell_type": "code",
   "execution_count": 17,
   "id": "18090742-7a3a-400a-a077-e2904901a123",
   "metadata": {
    "tags": []
   },
   "outputs": [],
   "source": [
    "assert len(tst) == len(unique_words), \\\n",
    "       f'{len(tst)} in tree, expected {len(unique_words)}'"
   ]
  },
  {
   "cell_type": "markdown",
   "id": "3715acd0-09b0-4d1d-9b1b-c33c7cca6ec9",
   "metadata": {},
   "source": [
    "Verify that all words that were inserted can be found."
   ]
  },
  {
   "cell_type": "code",
   "execution_count": 18,
   "id": "83fd3f2d-13ef-4cf9-9631-2f7550939efb",
   "metadata": {
    "tags": []
   },
   "outputs": [],
   "source": [
    "for word in unique_words:\n",
    "    assert tst.search(word), f'{word} not found'"
   ]
  },
  {
   "cell_type": "markdown",
   "id": "914240b6-1980-4436-9596-991258aac0d1",
   "metadata": {},
   "source": [
    "Verify that all prefixes can be found."
   ]
  },
  {
   "cell_type": "code",
   "execution_count": 19,
   "id": "7b320bc5-d544-4aa2-82f7-549eef526757",
   "metadata": {
    "tags": []
   },
   "outputs": [],
   "source": [
    "for word in unique_words:\n",
    "    for i in range(len(word) - 1, 0, -1):\n",
    "        prefix = word[:i]\n",
    "        assert tst.search(prefix), f'{prefix} not found'"
   ]
  },
  {
   "cell_type": "markdown",
   "id": "5e67261a-0260-451c-b975-5406458b7fc9",
   "metadata": {},
   "source": [
    "Chack that when searching for a exact match, only the inserted words are found, and no prefixes."
   ]
  },
  {
   "cell_type": "code",
   "execution_count": 20,
   "id": "c15f2bf1-e026-468d-86f1-b7bf7d4857a0",
   "metadata": {
    "tags": []
   },
   "outputs": [],
   "source": [
    "for word in unique_words:\n",
    "    for i in range(len(word), 0, -1):\n",
    "        prefix = word[:i]\n",
    "        if prefix not in unique_words:\n",
    "            assert not tst.search(prefix, exact=True), f'{prefix} found'"
   ]
  },
  {
   "cell_type": "markdown",
   "id": "63ce21af-9e38-473e-9bfa-572fc00beb7d",
   "metadata": {},
   "source": [
    "Check that the empty string is in the tree (since it is a prefix of any string)."
   ]
  },
  {
   "cell_type": "code",
   "execution_count": 21,
   "id": "02796895-029a-4f1f-aebe-19315b5a7964",
   "metadata": {
    "tags": []
   },
   "outputs": [],
   "source": [
    "assert tst.search(''), 'empty string not found'"
   ]
  },
  {
   "cell_type": "markdown",
   "id": "21485551-72ef-448f-a473-8fd94063a98a",
   "metadata": {},
   "source": [
    "Check that the empty string is not in the tree for an exact search."
   ]
  },
  {
   "cell_type": "code",
   "execution_count": 22,
   "id": "b3f7943c-ccc0-414a-a4bd-90398a09a829",
   "metadata": {
    "tags": []
   },
   "outputs": [],
   "source": [
    "assert not tst.search('', exact=True), 'empty string found'"
   ]
  },
  {
   "cell_type": "markdown",
   "id": "122ef82d-a23d-4245-899f-b070e0b13b0a",
   "metadata": {},
   "source": [
    "Check that words in the file `data/search_trees/not_insert_words.txt` can not be found in the tree."
   ]
  },
  {
   "cell_type": "code",
   "execution_count": 23,
   "id": "90ea39d5-5c96-4e79-8dc8-80c55de1cea2",
   "metadata": {
    "tags": []
   },
   "outputs": [],
   "source": [
    "with open('data/search_trees/not_insert_words.txt') as file:\n",
    "    for line in file:\n",
    "        word = line.strip()\n",
    "        assert not tst.search(word), f'{word} should not be found'"
   ]
  },
  {
   "cell_type": "markdown",
   "id": "bc93c3f1-a829-484c-a11d-d598914c3b8f",
   "metadata": {},
   "source": [
    "Check that all strings are returned."
   ]
  },
  {
   "cell_type": "code",
   "execution_count": 24,
   "id": "c09d0cab-02db-452e-8ac1-837e108ab63d",
   "metadata": {},
   "outputs": [],
   "source": [
    "all_strings = tst.all_strings()\n",
    "assert len(all_strings) == len(unique_words), \\\n",
    "       f'{len(all_strings)} words, expected {len(unique_words)}'\n",
    "assert sorted(all_strings) == sorted(unique_words), 'words do not match'"
   ]
  },
  {
   "cell_type": "markdown",
   "id": "4243d5d6-60d5-4f1b-857b-f26a4b1216a1",
   "metadata": {},
   "source": [
    "If not output was generated, all tests have passed."
   ]
  },
  {
   "cell_type": "markdown",
   "id": "e19d6356",
   "metadata": {},
   "source": [
    "# Performance"
   ]
  },
  {
   "cell_type": "markdown",
   "id": "63e6c5f7",
   "metadata": {},
   "source": [
    "To assess the performance, i.e., the time it takes to insert a new string or search the binary tree as a function of the tree's size, we need a large dataset.  This is provided in `data/search_trees/corncob_lowercase.txt`.  This file contains over 58,000 English words, all lower case."
   ]
  },
  {
   "cell_type": "code",
   "execution_count": 25,
   "id": "2c973a9c",
   "metadata": {},
   "outputs": [],
   "source": [
    "# We first load the dataset\n",
    "with open('data/search_trees/corncob_lowercase.txt') as file:\n",
    "    words = [line.strip() for line in file]"
   ]
  },
  {
   "cell_type": "markdown",
   "id": "670b2597",
   "metadata": {},
   "source": [
    "We will select random samples of increasing sizes from the list."
   ]
  },
  {
   "cell_type": "code",
   "execution_count": 70,
   "id": "60183b3c",
   "metadata": {},
   "outputs": [
    {
     "data": {
      "text/plain": [
       "{1: 587.35345,\n",
       " 10: 590.52389,\n",
       " 20: 555.17728,\n",
       " 30: 548.2458,\n",
       " 40: 569.98149,\n",
       " 60: 575.76463,\n",
       " 70: 562.50863,\n",
       " 80: 516.72321,\n",
       " 90: 507.4916,\n",
       " 100: 503.85353,\n",
       " 110: 541.13017,\n",
       " 120: 443.68233,\n",
       " 130: 541.02553,\n",
       " 140: 532.82576,\n",
       " 150: 574.90529,\n",
       " 160: 557.49479,\n",
       " 170: 501.1178,\n",
       " 180: 598.11179,\n",
       " 190: 521.47667,\n",
       " 200: 567.2056}"
      ]
     },
     "execution_count": 70,
     "metadata": {},
     "output_type": "execute_result"
    }
   ],
   "source": [
    "import random\n",
    "import time\n",
    "sizes = [1, 10, 20, 30, 40, 60, 70, 80, 90, 1_00, 110, 120, 130, 140, 150, 160, 170, 180, 190, 2_00]\n",
    "samples = [random.sample(words, k=size) for size in sizes]\n",
    "\n",
    "nr_runs = 10\n",
    "nr_trees = 25\n",
    "times = {}\n",
    "for size in sizes:\n",
    "    times[size] = 0.0\n",
    "    run_time = 0\n",
    "    for _ in range(nr_trees):\n",
    "        samples = random.sample(words, k=size)\n",
    "        TST = TernarySearchTree()\n",
    "        for word in sample:\n",
    "            TST.insert(word)\n",
    "        for _ in (range(nr_runs)):\n",
    "            insert_sample = random.sample(words, k=1000)\n",
    "            start_time = time.time_ns()\n",
    "            for word in insert_sample:\n",
    "                TST.insert(word)\n",
    "            end_time = time.time_ns()\n",
    "            run_time += end_time - start_time\n",
    "    times[len(samples)] += run_time\n",
    "    times[len(samples)] /= nr_runs*1_000_000.0\n",
    "\n",
    "times"
   ]
  },
  {
   "cell_type": "code",
   "execution_count": 71,
   "id": "11978c40",
   "metadata": {},
   "outputs": [
    {
     "data": {
      "text/plain": [
       "[<matplotlib.lines.Line2D at 0x188c4ef6500>]"
      ]
     },
     "execution_count": 71,
     "metadata": {},
     "output_type": "execute_result"
    },
    {
     "data": {
      "image/png": "[encoded data removed]",
      "text/plain": [
       "<Figure size 640x480 with 1 Axes>"
      ]
     },
     "metadata": {},
     "output_type": "display_data"
    }
   ],
   "source": [
    "import matplotlib.pyplot as plt\n",
    "plt.plot(times.keys(), times.values())\n"
   ]
  },
  {
   "cell_type": "code",
   "execution_count": null,
   "id": "4416390e",
   "metadata": {},
   "outputs": [],
   "source": []
  },
  {
   "cell_type": "code",
   "execution_count": null,
   "id": "2cc7baf7",
   "metadata": {},
   "outputs": [],
   "source": []
  }
 ],
 "metadata": {
  "kernelspec": {
   "display_name": "Python 3 (ipykernel)",
   "language": "python",
   "name": "python3"
  },
  "language_info": {
   "codemirror_mode": {
    "name": "ipython",
    "version": 3
   },
   "file_extension": ".py",
   "mimetype": "text/x-python",
   "name": "python",
   "nbconvert_exporter": "python",
   "pygments_lexer": "ipython3",
   "version": "3.10.9"
  }
 },
 "nbformat": 4,
 "nbformat_minor": 5
}
